{
 "cells": [
  {
   "cell_type": "code",
   "execution_count": 275,
   "id": "35350790",
   "metadata": {},
   "outputs": [],
   "source": [
    "# importing packages\n",
    "import numpy as np\n",
    "import pandas as pd\n",
    "import sqlite3\n",
    "import scipy.stats as stats\n",
    "import matplotlib.pyplot as plt\n",
    "import seaborn as sns\n"
   ]
  },
  {
   "cell_type": "code",
   "execution_count": 276,
   "id": "00ed454b",
   "metadata": {},
   "outputs": [],
   "source": [
    "#create dataframe\n",
    "df = pd.read_csv('honda_car_selling.csv')"
   ]
  },
  {
   "cell_type": "code",
   "execution_count": 277,
   "id": "59cc55aa",
   "metadata": {},
   "outputs": [
    {
     "data": {
      "text/html": [
       "<div>\n",
       "<style scoped>\n",
       "    .dataframe tbody tr th:only-of-type {\n",
       "        vertical-align: middle;\n",
       "    }\n",
       "\n",
       "    .dataframe tbody tr th {\n",
       "        vertical-align: top;\n",
       "    }\n",
       "\n",
       "    .dataframe thead th {\n",
       "        text-align: right;\n",
       "    }\n",
       "</style>\n",
       "<table border=\"1\" class=\"dataframe\">\n",
       "  <thead>\n",
       "    <tr style=\"text-align: right;\">\n",
       "      <th></th>\n",
       "      <th>Year</th>\n",
       "      <th>kms Driven</th>\n",
       "      <th>Fuel Type</th>\n",
       "      <th>Suspension</th>\n",
       "      <th>Price</th>\n",
       "      <th>Car Model</th>\n",
       "    </tr>\n",
       "  </thead>\n",
       "  <tbody>\n",
       "    <tr>\n",
       "      <th>0</th>\n",
       "      <td>2019</td>\n",
       "      <td>19006 kms</td>\n",
       "      <td>Petrol</td>\n",
       "      <td>Automatic</td>\n",
       "      <td>9.29 Lakh</td>\n",
       "      <td>Honda City V CVT</td>\n",
       "    </tr>\n",
       "    <tr>\n",
       "      <th>1</th>\n",
       "      <td>2021</td>\n",
       "      <td>11936 kms</td>\n",
       "      <td>Petrol</td>\n",
       "      <td>Automatic</td>\n",
       "      <td>13.95 Lakh</td>\n",
       "      <td>Honda City ZX CVT</td>\n",
       "    </tr>\n",
       "    <tr>\n",
       "      <th>2</th>\n",
       "      <td>2018</td>\n",
       "      <td>29635 kms</td>\n",
       "      <td>Petrol</td>\n",
       "      <td>Automatic</td>\n",
       "      <td>9.95 Lakh</td>\n",
       "      <td>Honda City i-VTEC CVT ZX</td>\n",
       "    </tr>\n",
       "    <tr>\n",
       "      <th>3</th>\n",
       "      <td>2020</td>\n",
       "      <td>16163 kms</td>\n",
       "      <td>Petrol</td>\n",
       "      <td>Automatic</td>\n",
       "      <td>13.26 Lakh</td>\n",
       "      <td>Honda City ZX CVT</td>\n",
       "    </tr>\n",
       "    <tr>\n",
       "      <th>4</th>\n",
       "      <td>2015</td>\n",
       "      <td>105114 kms</td>\n",
       "      <td>Petrol</td>\n",
       "      <td>Manual</td>\n",
       "      <td>5.68 Lakh</td>\n",
       "      <td>Honda City i VTEC V</td>\n",
       "    </tr>\n",
       "  </tbody>\n",
       "</table>\n",
       "</div>"
      ],
      "text/plain": [
       "   Year   kms Driven Fuel Type  Suspension        Price  \\\n",
       "0  2019   19006 kms    Petrol    Automatic    9.29 Lakh   \n",
       "1  2021   11936 kms    Petrol    Automatic   13.95 Lakh   \n",
       "2  2018   29635 kms    Petrol    Automatic    9.95 Lakh   \n",
       "3  2020   16163 kms    Petrol    Automatic   13.26 Lakh   \n",
       "4  2015  105114 kms    Petrol       Manual    5.68 Lakh   \n",
       "\n",
       "                  Car Model  \n",
       "0          Honda City V CVT  \n",
       "1         Honda City ZX CVT  \n",
       "2  Honda City i-VTEC CVT ZX  \n",
       "3         Honda City ZX CVT  \n",
       "4       Honda City i VTEC V  "
      ]
     },
     "execution_count": 277,
     "metadata": {},
     "output_type": "execute_result"
    }
   ],
   "source": [
    "df.head()"
   ]
  },
  {
   "cell_type": "code",
   "execution_count": null,
   "id": "b652023f",
   "metadata": {
    "scrolled": true
   },
   "outputs": [],
   "source": []
  },
  {
   "cell_type": "code",
   "execution_count": 278,
   "id": "f924ae28",
   "metadata": {},
   "outputs": [],
   "source": [
    "####data processing ##############################"
   ]
  },
  {
   "cell_type": "code",
   "execution_count": 279,
   "id": "c8ae8a04",
   "metadata": {},
   "outputs": [],
   "source": [
    "# Splitting off units of measurement \n",
    "df[['Miles', 'kms', 'space']] = df[\"kms Driven\"].str.split(' ', expand = True)\n",
    "df[['space', 'Price (USD)', '$']] = df[\"Price\"].str.split(' ', expand = True)"
   ]
  },
  {
   "cell_type": "code",
   "execution_count": 280,
   "id": "0206fdcd",
   "metadata": {},
   "outputs": [
    {
     "data": {
      "text/html": [
       "<div>\n",
       "<style scoped>\n",
       "    .dataframe tbody tr th:only-of-type {\n",
       "        vertical-align: middle;\n",
       "    }\n",
       "\n",
       "    .dataframe tbody tr th {\n",
       "        vertical-align: top;\n",
       "    }\n",
       "\n",
       "    .dataframe thead th {\n",
       "        text-align: right;\n",
       "    }\n",
       "</style>\n",
       "<table border=\"1\" class=\"dataframe\">\n",
       "  <thead>\n",
       "    <tr style=\"text-align: right;\">\n",
       "      <th></th>\n",
       "      <th>Year</th>\n",
       "      <th>kms Driven</th>\n",
       "      <th>Fuel Type</th>\n",
       "      <th>Suspension</th>\n",
       "      <th>Price</th>\n",
       "      <th>Car Model</th>\n",
       "      <th>Miles</th>\n",
       "      <th>kms</th>\n",
       "      <th>space</th>\n",
       "      <th>Price (USD)</th>\n",
       "      <th>$</th>\n",
       "    </tr>\n",
       "  </thead>\n",
       "  <tbody>\n",
       "    <tr>\n",
       "      <th>0</th>\n",
       "      <td>2019</td>\n",
       "      <td>19006 kms</td>\n",
       "      <td>Petrol</td>\n",
       "      <td>Automatic</td>\n",
       "      <td>9.29 Lakh</td>\n",
       "      <td>Honda City V CVT</td>\n",
       "      <td>19006</td>\n",
       "      <td>kms</td>\n",
       "      <td></td>\n",
       "      <td>9.29</td>\n",
       "      <td>Lakh</td>\n",
       "    </tr>\n",
       "    <tr>\n",
       "      <th>1</th>\n",
       "      <td>2021</td>\n",
       "      <td>11936 kms</td>\n",
       "      <td>Petrol</td>\n",
       "      <td>Automatic</td>\n",
       "      <td>13.95 Lakh</td>\n",
       "      <td>Honda City ZX CVT</td>\n",
       "      <td>11936</td>\n",
       "      <td>kms</td>\n",
       "      <td></td>\n",
       "      <td>13.95</td>\n",
       "      <td>Lakh</td>\n",
       "    </tr>\n",
       "    <tr>\n",
       "      <th>2</th>\n",
       "      <td>2018</td>\n",
       "      <td>29635 kms</td>\n",
       "      <td>Petrol</td>\n",
       "      <td>Automatic</td>\n",
       "      <td>9.95 Lakh</td>\n",
       "      <td>Honda City i-VTEC CVT ZX</td>\n",
       "      <td>29635</td>\n",
       "      <td>kms</td>\n",
       "      <td></td>\n",
       "      <td>9.95</td>\n",
       "      <td>Lakh</td>\n",
       "    </tr>\n",
       "    <tr>\n",
       "      <th>3</th>\n",
       "      <td>2020</td>\n",
       "      <td>16163 kms</td>\n",
       "      <td>Petrol</td>\n",
       "      <td>Automatic</td>\n",
       "      <td>13.26 Lakh</td>\n",
       "      <td>Honda City ZX CVT</td>\n",
       "      <td>16163</td>\n",
       "      <td>kms</td>\n",
       "      <td></td>\n",
       "      <td>13.26</td>\n",
       "      <td>Lakh</td>\n",
       "    </tr>\n",
       "    <tr>\n",
       "      <th>4</th>\n",
       "      <td>2015</td>\n",
       "      <td>105114 kms</td>\n",
       "      <td>Petrol</td>\n",
       "      <td>Manual</td>\n",
       "      <td>5.68 Lakh</td>\n",
       "      <td>Honda City i VTEC V</td>\n",
       "      <td>105114</td>\n",
       "      <td>kms</td>\n",
       "      <td></td>\n",
       "      <td>5.68</td>\n",
       "      <td>Lakh</td>\n",
       "    </tr>\n",
       "  </tbody>\n",
       "</table>\n",
       "</div>"
      ],
      "text/plain": [
       "   Year   kms Driven Fuel Type  Suspension        Price  \\\n",
       "0  2019   19006 kms    Petrol    Automatic    9.29 Lakh   \n",
       "1  2021   11936 kms    Petrol    Automatic   13.95 Lakh   \n",
       "2  2018   29635 kms    Petrol    Automatic    9.95 Lakh   \n",
       "3  2020   16163 kms    Petrol    Automatic   13.26 Lakh   \n",
       "4  2015  105114 kms    Petrol       Manual    5.68 Lakh   \n",
       "\n",
       "                  Car Model   Miles  kms space Price (USD)     $  \n",
       "0          Honda City V CVT   19006  kms              9.29  Lakh  \n",
       "1         Honda City ZX CVT   11936  kms             13.95  Lakh  \n",
       "2  Honda City i-VTEC CVT ZX   29635  kms              9.95  Lakh  \n",
       "3         Honda City ZX CVT   16163  kms             13.26  Lakh  \n",
       "4       Honda City i VTEC V  105114  kms              5.68  Lakh  "
      ]
     },
     "execution_count": 280,
     "metadata": {},
     "output_type": "execute_result"
    }
   ],
   "source": [
    "df.head()"
   ]
  },
  {
   "cell_type": "code",
   "execution_count": 281,
   "id": "96d130ac",
   "metadata": {},
   "outputs": [],
   "source": [
    "# Dropping units of measurement \n",
    "df.drop(['kms', 'kms Driven','space'], axis = 1, inplace = True)\n",
    "df.drop(['Price', '$'], axis = 1, inplace = True)"
   ]
  },
  {
   "cell_type": "code",
   "execution_count": 282,
   "id": "f011d16e",
   "metadata": {},
   "outputs": [
    {
     "data": {
      "text/html": [
       "<div>\n",
       "<style scoped>\n",
       "    .dataframe tbody tr th:only-of-type {\n",
       "        vertical-align: middle;\n",
       "    }\n",
       "\n",
       "    .dataframe tbody tr th {\n",
       "        vertical-align: top;\n",
       "    }\n",
       "\n",
       "    .dataframe thead th {\n",
       "        text-align: right;\n",
       "    }\n",
       "</style>\n",
       "<table border=\"1\" class=\"dataframe\">\n",
       "  <thead>\n",
       "    <tr style=\"text-align: right;\">\n",
       "      <th></th>\n",
       "      <th>Year</th>\n",
       "      <th>Fuel Type</th>\n",
       "      <th>Suspension</th>\n",
       "      <th>Car Model</th>\n",
       "      <th>Miles</th>\n",
       "      <th>Price (USD)</th>\n",
       "    </tr>\n",
       "  </thead>\n",
       "  <tbody>\n",
       "    <tr>\n",
       "      <th>0</th>\n",
       "      <td>2019</td>\n",
       "      <td>Petrol</td>\n",
       "      <td>Automatic</td>\n",
       "      <td>Honda City V CVT</td>\n",
       "      <td>19006</td>\n",
       "      <td>9.29</td>\n",
       "    </tr>\n",
       "    <tr>\n",
       "      <th>1</th>\n",
       "      <td>2021</td>\n",
       "      <td>Petrol</td>\n",
       "      <td>Automatic</td>\n",
       "      <td>Honda City ZX CVT</td>\n",
       "      <td>11936</td>\n",
       "      <td>13.95</td>\n",
       "    </tr>\n",
       "    <tr>\n",
       "      <th>2</th>\n",
       "      <td>2018</td>\n",
       "      <td>Petrol</td>\n",
       "      <td>Automatic</td>\n",
       "      <td>Honda City i-VTEC CVT ZX</td>\n",
       "      <td>29635</td>\n",
       "      <td>9.95</td>\n",
       "    </tr>\n",
       "    <tr>\n",
       "      <th>3</th>\n",
       "      <td>2020</td>\n",
       "      <td>Petrol</td>\n",
       "      <td>Automatic</td>\n",
       "      <td>Honda City ZX CVT</td>\n",
       "      <td>16163</td>\n",
       "      <td>13.26</td>\n",
       "    </tr>\n",
       "    <tr>\n",
       "      <th>4</th>\n",
       "      <td>2015</td>\n",
       "      <td>Petrol</td>\n",
       "      <td>Manual</td>\n",
       "      <td>Honda City i VTEC V</td>\n",
       "      <td>105114</td>\n",
       "      <td>5.68</td>\n",
       "    </tr>\n",
       "  </tbody>\n",
       "</table>\n",
       "</div>"
      ],
      "text/plain": [
       "   Year Fuel Type  Suspension                 Car Model   Miles Price (USD)\n",
       "0  2019   Petrol    Automatic          Honda City V CVT   19006        9.29\n",
       "1  2021   Petrol    Automatic         Honda City ZX CVT   11936       13.95\n",
       "2  2018   Petrol    Automatic  Honda City i-VTEC CVT ZX   29635        9.95\n",
       "3  2020   Petrol    Automatic         Honda City ZX CVT   16163       13.26\n",
       "4  2015   Petrol       Manual       Honda City i VTEC V  105114        5.68"
      ]
     },
     "execution_count": 282,
     "metadata": {},
     "output_type": "execute_result"
    }
   ],
   "source": [
    "df.head()"
   ]
  },
  {
   "cell_type": "code",
   "execution_count": 283,
   "id": "5635be2b",
   "metadata": {},
   "outputs": [],
   "source": [
    "# changing lakh int to USD float \n",
    "df['Price (USD)'] = df['Price (USD)'].astype(float)\n",
    "df = df[df['Price (USD)'] <= 500000]\n",
    "df['Price (USD)'] = round(df['Price (USD)'] * 1216.52)\n",
    "df['Price (USD)'] = df['Price (USD)'].astype(int)"
   ]
  },
  {
   "cell_type": "code",
   "execution_count": 284,
   "id": "8ba0eac7",
   "metadata": {},
   "outputs": [
    {
     "data": {
      "text/plain": [
       "(992, 6)"
      ]
     },
     "execution_count": 284,
     "metadata": {},
     "output_type": "execute_result"
    }
   ],
   "source": [
    "df.shape"
   ]
  },
  {
   "cell_type": "code",
   "execution_count": 285,
   "id": "294421d0",
   "metadata": {},
   "outputs": [
    {
     "data": {
      "text/html": [
       "<div>\n",
       "<style scoped>\n",
       "    .dataframe tbody tr th:only-of-type {\n",
       "        vertical-align: middle;\n",
       "    }\n",
       "\n",
       "    .dataframe tbody tr th {\n",
       "        vertical-align: top;\n",
       "    }\n",
       "\n",
       "    .dataframe thead th {\n",
       "        text-align: right;\n",
       "    }\n",
       "</style>\n",
       "<table border=\"1\" class=\"dataframe\">\n",
       "  <thead>\n",
       "    <tr style=\"text-align: right;\">\n",
       "      <th></th>\n",
       "      <th>Year</th>\n",
       "      <th>Fuel Type</th>\n",
       "      <th>Suspension</th>\n",
       "      <th>Car Model</th>\n",
       "      <th>Miles</th>\n",
       "      <th>Price (USD)</th>\n",
       "    </tr>\n",
       "  </thead>\n",
       "  <tbody>\n",
       "    <tr>\n",
       "      <th>0</th>\n",
       "      <td>2019</td>\n",
       "      <td>Petrol</td>\n",
       "      <td>Automatic</td>\n",
       "      <td>Honda City V CVT</td>\n",
       "      <td>19006</td>\n",
       "      <td>11301</td>\n",
       "    </tr>\n",
       "    <tr>\n",
       "      <th>1</th>\n",
       "      <td>2021</td>\n",
       "      <td>Petrol</td>\n",
       "      <td>Automatic</td>\n",
       "      <td>Honda City ZX CVT</td>\n",
       "      <td>11936</td>\n",
       "      <td>16970</td>\n",
       "    </tr>\n",
       "    <tr>\n",
       "      <th>2</th>\n",
       "      <td>2018</td>\n",
       "      <td>Petrol</td>\n",
       "      <td>Automatic</td>\n",
       "      <td>Honda City i-VTEC CVT ZX</td>\n",
       "      <td>29635</td>\n",
       "      <td>12104</td>\n",
       "    </tr>\n",
       "    <tr>\n",
       "      <th>3</th>\n",
       "      <td>2020</td>\n",
       "      <td>Petrol</td>\n",
       "      <td>Automatic</td>\n",
       "      <td>Honda City ZX CVT</td>\n",
       "      <td>16163</td>\n",
       "      <td>16131</td>\n",
       "    </tr>\n",
       "    <tr>\n",
       "      <th>4</th>\n",
       "      <td>2015</td>\n",
       "      <td>Petrol</td>\n",
       "      <td>Manual</td>\n",
       "      <td>Honda City i VTEC V</td>\n",
       "      <td>105114</td>\n",
       "      <td>6910</td>\n",
       "    </tr>\n",
       "  </tbody>\n",
       "</table>\n",
       "</div>"
      ],
      "text/plain": [
       "   Year Fuel Type  Suspension                 Car Model   Miles  Price (USD)\n",
       "0  2019   Petrol    Automatic          Honda City V CVT   19006        11301\n",
       "1  2021   Petrol    Automatic         Honda City ZX CVT   11936        16970\n",
       "2  2018   Petrol    Automatic  Honda City i-VTEC CVT ZX   29635        12104\n",
       "3  2020   Petrol    Automatic         Honda City ZX CVT   16163        16131\n",
       "4  2015   Petrol       Manual       Honda City i VTEC V  105114         6910"
      ]
     },
     "execution_count": 285,
     "metadata": {},
     "output_type": "execute_result"
    }
   ],
   "source": [
    "df.head()"
   ]
  },
  {
   "cell_type": "code",
   "execution_count": 286,
   "id": "f4c160a6",
   "metadata": {},
   "outputs": [],
   "source": [
    "#changing kms into miles \n",
    "df['Miles'] = df['Miles'].astype(int)\n",
    "df['Miles'] = round(df['Miles'] / 1.609)\n",
    "df['Miles'] = df['Miles'].astype(int)"
   ]
  },
  {
   "cell_type": "code",
   "execution_count": 287,
   "id": "3bee0b1d",
   "metadata": {},
   "outputs": [
    {
     "data": {
      "text/html": [
       "<div>\n",
       "<style scoped>\n",
       "    .dataframe tbody tr th:only-of-type {\n",
       "        vertical-align: middle;\n",
       "    }\n",
       "\n",
       "    .dataframe tbody tr th {\n",
       "        vertical-align: top;\n",
       "    }\n",
       "\n",
       "    .dataframe thead th {\n",
       "        text-align: right;\n",
       "    }\n",
       "</style>\n",
       "<table border=\"1\" class=\"dataframe\">\n",
       "  <thead>\n",
       "    <tr style=\"text-align: right;\">\n",
       "      <th></th>\n",
       "      <th>Year</th>\n",
       "      <th>Fuel Type</th>\n",
       "      <th>Suspension</th>\n",
       "      <th>Car Model</th>\n",
       "      <th>Miles</th>\n",
       "      <th>Price (USD)</th>\n",
       "    </tr>\n",
       "  </thead>\n",
       "  <tbody>\n",
       "    <tr>\n",
       "      <th>0</th>\n",
       "      <td>2019</td>\n",
       "      <td>Petrol</td>\n",
       "      <td>Automatic</td>\n",
       "      <td>Honda City V CVT</td>\n",
       "      <td>11812</td>\n",
       "      <td>11301</td>\n",
       "    </tr>\n",
       "    <tr>\n",
       "      <th>1</th>\n",
       "      <td>2021</td>\n",
       "      <td>Petrol</td>\n",
       "      <td>Automatic</td>\n",
       "      <td>Honda City ZX CVT</td>\n",
       "      <td>7418</td>\n",
       "      <td>16970</td>\n",
       "    </tr>\n",
       "    <tr>\n",
       "      <th>2</th>\n",
       "      <td>2018</td>\n",
       "      <td>Petrol</td>\n",
       "      <td>Automatic</td>\n",
       "      <td>Honda City i-VTEC CVT ZX</td>\n",
       "      <td>18418</td>\n",
       "      <td>12104</td>\n",
       "    </tr>\n",
       "    <tr>\n",
       "      <th>3</th>\n",
       "      <td>2020</td>\n",
       "      <td>Petrol</td>\n",
       "      <td>Automatic</td>\n",
       "      <td>Honda City ZX CVT</td>\n",
       "      <td>10045</td>\n",
       "      <td>16131</td>\n",
       "    </tr>\n",
       "    <tr>\n",
       "      <th>4</th>\n",
       "      <td>2015</td>\n",
       "      <td>Petrol</td>\n",
       "      <td>Manual</td>\n",
       "      <td>Honda City i VTEC V</td>\n",
       "      <td>65329</td>\n",
       "      <td>6910</td>\n",
       "    </tr>\n",
       "  </tbody>\n",
       "</table>\n",
       "</div>"
      ],
      "text/plain": [
       "   Year Fuel Type  Suspension                 Car Model  Miles  Price (USD)\n",
       "0  2019   Petrol    Automatic          Honda City V CVT  11812        11301\n",
       "1  2021   Petrol    Automatic         Honda City ZX CVT   7418        16970\n",
       "2  2018   Petrol    Automatic  Honda City i-VTEC CVT ZX  18418        12104\n",
       "3  2020   Petrol    Automatic         Honda City ZX CVT  10045        16131\n",
       "4  2015   Petrol       Manual       Honda City i VTEC V  65329         6910"
      ]
     },
     "execution_count": 287,
     "metadata": {},
     "output_type": "execute_result"
    }
   ],
   "source": [
    "df.head()"
   ]
  },
  {
   "cell_type": "code",
   "execution_count": 288,
   "id": "a4f021e8",
   "metadata": {},
   "outputs": [
    {
     "name": "stdout",
     "output_type": "stream",
     "text": [
      "992\n"
     ]
    }
   ],
   "source": [
    "print(len(df['Fuel Type']))"
   ]
  },
  {
   "cell_type": "code",
   "execution_count": 289,
   "id": "0269e3b0",
   "metadata": {},
   "outputs": [],
   "source": [
    "# Strip extra spaces \n",
    "df['Fuel Type'] = df['Fuel Type'].str.strip()"
   ]
  },
  {
   "cell_type": "code",
   "execution_count": 290,
   "id": "89be4dc7",
   "metadata": {},
   "outputs": [
    {
     "data": {
      "text/html": [
       "<div>\n",
       "<style scoped>\n",
       "    .dataframe tbody tr th:only-of-type {\n",
       "        vertical-align: middle;\n",
       "    }\n",
       "\n",
       "    .dataframe tbody tr th {\n",
       "        vertical-align: top;\n",
       "    }\n",
       "\n",
       "    .dataframe thead th {\n",
       "        text-align: right;\n",
       "    }\n",
       "</style>\n",
       "<table border=\"1\" class=\"dataframe\">\n",
       "  <thead>\n",
       "    <tr style=\"text-align: right;\">\n",
       "      <th></th>\n",
       "      <th>Year</th>\n",
       "      <th>Fuel Type</th>\n",
       "      <th>Suspension</th>\n",
       "      <th>Car Model</th>\n",
       "      <th>Miles</th>\n",
       "      <th>Price (USD)</th>\n",
       "    </tr>\n",
       "  </thead>\n",
       "  <tbody>\n",
       "    <tr>\n",
       "      <th>0</th>\n",
       "      <td>2019</td>\n",
       "      <td>Petrol</td>\n",
       "      <td>Automatic</td>\n",
       "      <td>Honda City V CVT</td>\n",
       "      <td>11812</td>\n",
       "      <td>11301</td>\n",
       "    </tr>\n",
       "    <tr>\n",
       "      <th>1</th>\n",
       "      <td>2021</td>\n",
       "      <td>Petrol</td>\n",
       "      <td>Automatic</td>\n",
       "      <td>Honda City ZX CVT</td>\n",
       "      <td>7418</td>\n",
       "      <td>16970</td>\n",
       "    </tr>\n",
       "    <tr>\n",
       "      <th>2</th>\n",
       "      <td>2018</td>\n",
       "      <td>Petrol</td>\n",
       "      <td>Automatic</td>\n",
       "      <td>Honda City i-VTEC CVT ZX</td>\n",
       "      <td>18418</td>\n",
       "      <td>12104</td>\n",
       "    </tr>\n",
       "    <tr>\n",
       "      <th>3</th>\n",
       "      <td>2020</td>\n",
       "      <td>Petrol</td>\n",
       "      <td>Automatic</td>\n",
       "      <td>Honda City ZX CVT</td>\n",
       "      <td>10045</td>\n",
       "      <td>16131</td>\n",
       "    </tr>\n",
       "    <tr>\n",
       "      <th>4</th>\n",
       "      <td>2015</td>\n",
       "      <td>Petrol</td>\n",
       "      <td>Manual</td>\n",
       "      <td>Honda City i VTEC V</td>\n",
       "      <td>65329</td>\n",
       "      <td>6910</td>\n",
       "    </tr>\n",
       "  </tbody>\n",
       "</table>\n",
       "</div>"
      ],
      "text/plain": [
       "   Year Fuel Type  Suspension                 Car Model  Miles  Price (USD)\n",
       "0  2019    Petrol   Automatic          Honda City V CVT  11812        11301\n",
       "1  2021    Petrol   Automatic         Honda City ZX CVT   7418        16970\n",
       "2  2018    Petrol   Automatic  Honda City i-VTEC CVT ZX  18418        12104\n",
       "3  2020    Petrol   Automatic         Honda City ZX CVT  10045        16131\n",
       "4  2015    Petrol      Manual       Honda City i VTEC V  65329         6910"
      ]
     },
     "execution_count": 290,
     "metadata": {},
     "output_type": "execute_result"
    }
   ],
   "source": [
    "df.head()"
   ]
  },
  {
   "cell_type": "code",
   "execution_count": 291,
   "id": "dadc4d90",
   "metadata": {},
   "outputs": [],
   "source": [
    "#convert fuel type column to true/false\n",
    "# true = petrol \n",
    "# false = diesel \n",
    "for idx in df.index:\n",
    "    if df.loc[idx, 'Fuel Type'] == 'Petrol':\n",
    "        df.loc[idx, 'Fuel Type'] = True\n",
    "    elif df.loc[idx, 'Fuel Type'] == 'Diesel':\n",
    "        df.loc[idx, 'Fuel Type'] = False\n",
    "        \n",
    "#Convert Fuel Type T/F to boolean\n",
    "df['Fuel Type'] = df['Fuel Type'].astype(bool)"
   ]
  },
  {
   "cell_type": "code",
   "execution_count": 292,
   "id": "21408a8b",
   "metadata": {},
   "outputs": [
    {
     "data": {
      "text/html": [
       "<div>\n",
       "<style scoped>\n",
       "    .dataframe tbody tr th:only-of-type {\n",
       "        vertical-align: middle;\n",
       "    }\n",
       "\n",
       "    .dataframe tbody tr th {\n",
       "        vertical-align: top;\n",
       "    }\n",
       "\n",
       "    .dataframe thead th {\n",
       "        text-align: right;\n",
       "    }\n",
       "</style>\n",
       "<table border=\"1\" class=\"dataframe\">\n",
       "  <thead>\n",
       "    <tr style=\"text-align: right;\">\n",
       "      <th></th>\n",
       "      <th>Year</th>\n",
       "      <th>Fuel Type</th>\n",
       "      <th>Suspension</th>\n",
       "      <th>Car Model</th>\n",
       "      <th>Miles</th>\n",
       "      <th>Price (USD)</th>\n",
       "    </tr>\n",
       "  </thead>\n",
       "  <tbody>\n",
       "    <tr>\n",
       "      <th>0</th>\n",
       "      <td>2019</td>\n",
       "      <td>True</td>\n",
       "      <td>Automatic</td>\n",
       "      <td>Honda City V CVT</td>\n",
       "      <td>11812</td>\n",
       "      <td>11301</td>\n",
       "    </tr>\n",
       "    <tr>\n",
       "      <th>1</th>\n",
       "      <td>2021</td>\n",
       "      <td>True</td>\n",
       "      <td>Automatic</td>\n",
       "      <td>Honda City ZX CVT</td>\n",
       "      <td>7418</td>\n",
       "      <td>16970</td>\n",
       "    </tr>\n",
       "    <tr>\n",
       "      <th>2</th>\n",
       "      <td>2018</td>\n",
       "      <td>True</td>\n",
       "      <td>Automatic</td>\n",
       "      <td>Honda City i-VTEC CVT ZX</td>\n",
       "      <td>18418</td>\n",
       "      <td>12104</td>\n",
       "    </tr>\n",
       "    <tr>\n",
       "      <th>3</th>\n",
       "      <td>2020</td>\n",
       "      <td>True</td>\n",
       "      <td>Automatic</td>\n",
       "      <td>Honda City ZX CVT</td>\n",
       "      <td>10045</td>\n",
       "      <td>16131</td>\n",
       "    </tr>\n",
       "    <tr>\n",
       "      <th>4</th>\n",
       "      <td>2015</td>\n",
       "      <td>True</td>\n",
       "      <td>Manual</td>\n",
       "      <td>Honda City i VTEC V</td>\n",
       "      <td>65329</td>\n",
       "      <td>6910</td>\n",
       "    </tr>\n",
       "  </tbody>\n",
       "</table>\n",
       "</div>"
      ],
      "text/plain": [
       "   Year  Fuel Type  Suspension                 Car Model  Miles  Price (USD)\n",
       "0  2019       True   Automatic          Honda City V CVT  11812        11301\n",
       "1  2021       True   Automatic         Honda City ZX CVT   7418        16970\n",
       "2  2018       True   Automatic  Honda City i-VTEC CVT ZX  18418        12104\n",
       "3  2020       True   Automatic         Honda City ZX CVT  10045        16131\n",
       "4  2015       True      Manual       Honda City i VTEC V  65329         6910"
      ]
     },
     "execution_count": 292,
     "metadata": {},
     "output_type": "execute_result"
    }
   ],
   "source": [
    "df.head()\n"
   ]
  },
  {
   "cell_type": "code",
   "execution_count": 293,
   "id": "56e321b6",
   "metadata": {},
   "outputs": [
    {
     "data": {
      "text/html": [
       "<div>\n",
       "<style scoped>\n",
       "    .dataframe tbody tr th:only-of-type {\n",
       "        vertical-align: middle;\n",
       "    }\n",
       "\n",
       "    .dataframe tbody tr th {\n",
       "        vertical-align: top;\n",
       "    }\n",
       "\n",
       "    .dataframe thead th {\n",
       "        text-align: right;\n",
       "    }\n",
       "</style>\n",
       "<table border=\"1\" class=\"dataframe\">\n",
       "  <thead>\n",
       "    <tr style=\"text-align: right;\">\n",
       "      <th></th>\n",
       "      <th>Year</th>\n",
       "      <th>Fuel Type</th>\n",
       "      <th>Suspension</th>\n",
       "      <th>Car Model</th>\n",
       "      <th>Miles</th>\n",
       "      <th>Price (USD)</th>\n",
       "    </tr>\n",
       "  </thead>\n",
       "  <tbody>\n",
       "    <tr>\n",
       "      <th>0</th>\n",
       "      <td>2019</td>\n",
       "      <td>True</td>\n",
       "      <td>Automatic</td>\n",
       "      <td>Honda City V CVT</td>\n",
       "      <td>11812</td>\n",
       "      <td>11301</td>\n",
       "    </tr>\n",
       "    <tr>\n",
       "      <th>1</th>\n",
       "      <td>2021</td>\n",
       "      <td>True</td>\n",
       "      <td>Automatic</td>\n",
       "      <td>Honda City ZX CVT</td>\n",
       "      <td>7418</td>\n",
       "      <td>16970</td>\n",
       "    </tr>\n",
       "    <tr>\n",
       "      <th>2</th>\n",
       "      <td>2018</td>\n",
       "      <td>True</td>\n",
       "      <td>Automatic</td>\n",
       "      <td>Honda City i-VTEC CVT ZX</td>\n",
       "      <td>18418</td>\n",
       "      <td>12104</td>\n",
       "    </tr>\n",
       "    <tr>\n",
       "      <th>3</th>\n",
       "      <td>2020</td>\n",
       "      <td>True</td>\n",
       "      <td>Automatic</td>\n",
       "      <td>Honda City ZX CVT</td>\n",
       "      <td>10045</td>\n",
       "      <td>16131</td>\n",
       "    </tr>\n",
       "    <tr>\n",
       "      <th>4</th>\n",
       "      <td>2015</td>\n",
       "      <td>True</td>\n",
       "      <td>Manual</td>\n",
       "      <td>Honda City i VTEC V</td>\n",
       "      <td>65329</td>\n",
       "      <td>6910</td>\n",
       "    </tr>\n",
       "  </tbody>\n",
       "</table>\n",
       "</div>"
      ],
      "text/plain": [
       "   Year  Fuel Type  Suspension                 Car Model  Miles  Price (USD)\n",
       "0  2019       True   Automatic          Honda City V CVT  11812        11301\n",
       "1  2021       True   Automatic         Honda City ZX CVT   7418        16970\n",
       "2  2018       True   Automatic  Honda City i-VTEC CVT ZX  18418        12104\n",
       "3  2020       True   Automatic         Honda City ZX CVT  10045        16131\n",
       "4  2015       True      Manual       Honda City i VTEC V  65329         6910"
      ]
     },
     "execution_count": 293,
     "metadata": {},
     "output_type": "execute_result"
    }
   ],
   "source": [
    "df.head()\n"
   ]
  },
  {
   "cell_type": "code",
   "execution_count": 294,
   "id": "e55842a2",
   "metadata": {},
   "outputs": [
    {
     "name": "stdout",
     "output_type": "stream",
     "text": [
      "['Automatic' 'Manual']\n"
     ]
    }
   ],
   "source": [
    "# Strip extra spaces \n",
    "df['Suspension'] = df['Suspension'].str.strip()\n",
    "print(df['Suspension'].unique())"
   ]
  },
  {
   "cell_type": "code",
   "execution_count": 295,
   "id": "27d9cef5",
   "metadata": {},
   "outputs": [],
   "source": [
    "#convert Suspension column to true/false\n",
    "# true = Automatic \n",
    "# false = Manual \n",
    "#for idx in df.index:\n",
    "if df.loc[idx, 'Suspension'] == 'Automatic':\n",
    "        df.loc[idx, 'Suspension'] = True\n",
    "elif df.loc[idx, 'Suspension'] == 'Manual':\n",
    "        df.loc[idx, 'Suspension'] = False\n",
    "#Convert Suspension T/F to boolean\n",
    "df['Suspension'] = df['Suspension'].astype(bool)"
   ]
  },
  {
   "cell_type": "code",
   "execution_count": 296,
   "id": "1790ccde",
   "metadata": {},
   "outputs": [
    {
     "data": {
      "text/html": [
       "<div>\n",
       "<style scoped>\n",
       "    .dataframe tbody tr th:only-of-type {\n",
       "        vertical-align: middle;\n",
       "    }\n",
       "\n",
       "    .dataframe tbody tr th {\n",
       "        vertical-align: top;\n",
       "    }\n",
       "\n",
       "    .dataframe thead th {\n",
       "        text-align: right;\n",
       "    }\n",
       "</style>\n",
       "<table border=\"1\" class=\"dataframe\">\n",
       "  <thead>\n",
       "    <tr style=\"text-align: right;\">\n",
       "      <th></th>\n",
       "      <th>Year</th>\n",
       "      <th>Fuel Type</th>\n",
       "      <th>Suspension</th>\n",
       "      <th>Car Model</th>\n",
       "      <th>Miles</th>\n",
       "      <th>Price (USD)</th>\n",
       "    </tr>\n",
       "  </thead>\n",
       "  <tbody>\n",
       "    <tr>\n",
       "      <th>0</th>\n",
       "      <td>2019</td>\n",
       "      <td>True</td>\n",
       "      <td>True</td>\n",
       "      <td>Honda City V CVT</td>\n",
       "      <td>11812</td>\n",
       "      <td>11301</td>\n",
       "    </tr>\n",
       "    <tr>\n",
       "      <th>1</th>\n",
       "      <td>2021</td>\n",
       "      <td>True</td>\n",
       "      <td>True</td>\n",
       "      <td>Honda City ZX CVT</td>\n",
       "      <td>7418</td>\n",
       "      <td>16970</td>\n",
       "    </tr>\n",
       "    <tr>\n",
       "      <th>2</th>\n",
       "      <td>2018</td>\n",
       "      <td>True</td>\n",
       "      <td>True</td>\n",
       "      <td>Honda City i-VTEC CVT ZX</td>\n",
       "      <td>18418</td>\n",
       "      <td>12104</td>\n",
       "    </tr>\n",
       "    <tr>\n",
       "      <th>3</th>\n",
       "      <td>2020</td>\n",
       "      <td>True</td>\n",
       "      <td>True</td>\n",
       "      <td>Honda City ZX CVT</td>\n",
       "      <td>10045</td>\n",
       "      <td>16131</td>\n",
       "    </tr>\n",
       "    <tr>\n",
       "      <th>4</th>\n",
       "      <td>2015</td>\n",
       "      <td>True</td>\n",
       "      <td>True</td>\n",
       "      <td>Honda City i VTEC V</td>\n",
       "      <td>65329</td>\n",
       "      <td>6910</td>\n",
       "    </tr>\n",
       "  </tbody>\n",
       "</table>\n",
       "</div>"
      ],
      "text/plain": [
       "   Year  Fuel Type  Suspension                 Car Model  Miles  Price (USD)\n",
       "0  2019       True        True          Honda City V CVT  11812        11301\n",
       "1  2021       True        True         Honda City ZX CVT   7418        16970\n",
       "2  2018       True        True  Honda City i-VTEC CVT ZX  18418        12104\n",
       "3  2020       True        True         Honda City ZX CVT  10045        16131\n",
       "4  2015       True        True       Honda City i VTEC V  65329         6910"
      ]
     },
     "execution_count": 296,
     "metadata": {},
     "output_type": "execute_result"
    }
   ],
   "source": [
    "df.head()"
   ]
  },
  {
   "cell_type": "code",
   "execution_count": 297,
   "id": "2db60962",
   "metadata": {},
   "outputs": [
    {
     "name": "stdout",
     "output_type": "stream",
     "text": [
      "Year            int64\n",
      "Fuel Type        bool\n",
      "Suspension       bool\n",
      "Car Model      object\n",
      "Miles           int32\n",
      "Price (USD)     int32\n",
      "dtype: object\n"
     ]
    }
   ],
   "source": [
    "print(df.dtypes)"
   ]
  },
  {
   "cell_type": "code",
   "execution_count": 298,
   "id": "799903a5",
   "metadata": {},
   "outputs": [
    {
     "name": "stdout",
     "output_type": "stream",
     "text": [
      "     Year  Fuel Type  Suspension                 Car Model  Miles  Price (USD)\n",
      "0    2019       True        True          Honda City V CVT  11812        11301\n",
      "1    2021       True        True         Honda City ZX CVT   7418        16970\n",
      "2    2018       True        True  Honda City i-VTEC CVT ZX  18418        12104\n",
      "3    2020       True        True         Honda City ZX CVT  10045        16131\n",
      "4    2015       True        True       Honda City i VTEC V  65329         6910\n",
      "..    ...        ...         ...                       ...    ...          ...\n",
      "994  2007       True        True      Honda Civic 1.8 V MT  55935         1484\n",
      "995  2016       True        True      Honda Amaze S i-VTEC  19577         5170\n",
      "996  2017       True        True      Honda Amaze S Petrol  24695         6204\n",
      "997  2017       True        True       Honda City i VTEC S  22374         7421\n",
      "998  2015      False       False     Honda Amaze S i-Dtech  21965         3650\n",
      "\n",
      "[992 rows x 6 columns]\n"
     ]
    }
   ],
   "source": [
    "print(df)"
   ]
  },
  {
   "cell_type": "code",
   "execution_count": 299,
   "id": "8cc4ae13",
   "metadata": {},
   "outputs": [],
   "source": [
    "#########Creating Visualizations#########"
   ]
  },
  {
   "cell_type": "code",
   "execution_count": 300,
   "id": "b9e80781",
   "metadata": {},
   "outputs": [
    {
     "data": {
      "image/png": "[encoded data removed]",
      "text/plain": [
       "<Figure size 432x288 with 1 Axes>"
      ]
     },
     "metadata": {
      "needs_background": "light"
     },
     "output_type": "display_data"
    }
   ],
   "source": [
    "# boxplot - Model Years \n",
    "plt.boxplot(df['Year'])\n",
    "\n",
    "# Set labels\n",
    "plt.xlabel('Used Hondas')\n",
    "plt.ylabel('Year')\n",
    "plt.title('Boxplot of Model Years')\n",
    "\n",
    "plt.show()"
   ]
  },
  {
   "cell_type": "code",
   "execution_count": 307,
   "id": "b156528f",
   "metadata": {},
   "outputs": [
    {
     "data": {
      "image/png": "[encoded data removed]",
      "text/plain": [
       "<Figure size 432x288 with 1 Axes>"
      ]
     },
     "metadata": {
      "needs_background": "light"
     },
     "output_type": "display_data"
    }
   ],
   "source": [
    "# Use log to correct the skewness of the Price data \n",
    "df['Year_log'] = np.log(df['Year'])\n",
    "df['Year_exp'] = np.exp(df['Year_log'])\n",
    "\n",
    "# Create a new histogram with the symmetrical data \n",
    "plt.hist(df['Year_exp'], bins=25, color='green')\n",
    "\n",
    "# Set labels\n",
    "plt.xlabel('Model Year')\n",
    "plt.ylabel('Frequency')\n",
    "plt.title('Used Honda Model Year')\n",
    "\n",
    "plt.show()"
   ]
  },
  {
   "cell_type": "code",
   "execution_count": 302,
   "id": "c57d071a",
   "metadata": {},
   "outputs": [
    {
     "data": {
      "image/png": "[encoded data removed]",
      "text/plain": [
       "<Figure size 432x288 with 1 Axes>"
      ]
     },
     "metadata": {
      "needs_background": "light"
     },
     "output_type": "display_data"
    }
   ],
   "source": [
    "# Boxplot - Miles\n",
    "plt.boxplot(df['Miles'])\n",
    "\n",
    "# Set labels\n",
    "plt.xlabel('Used Hondas')\n",
    "plt.ylabel('Miles Driven')\n",
    "plt.title('Used Honda Miles')\n",
    "\n",
    "plt.show()"
   ]
  },
  {
   "cell_type": "code",
   "execution_count": 303,
   "id": "815ed8d8",
   "metadata": {},
   "outputs": [
    {
     "name": "stdout",
     "output_type": "stream",
     "text": [
      "     Year  Fuel Type  Suspension                 Car Model  Miles  \\\n",
      "0    2019       True        True          Honda City V CVT  11812   \n",
      "1    2021       True        True         Honda City ZX CVT   7418   \n",
      "2    2018       True        True  Honda City i-VTEC CVT ZX  18418   \n",
      "3    2020       True        True         Honda City ZX CVT  10045   \n",
      "4    2015       True        True       Honda City i VTEC V  65329   \n",
      "..    ...        ...         ...                       ...    ...   \n",
      "994  2007       True        True      Honda Civic 1.8 V MT  55935   \n",
      "995  2016       True        True      Honda Amaze S i-VTEC  19577   \n",
      "996  2017       True        True      Honda Amaze S Petrol  24695   \n",
      "997  2017       True        True       Honda City i VTEC S  22374   \n",
      "998  2015      False       False     Honda Amaze S i-Dtech  21965   \n",
      "\n",
      "     Price (USD)  Year_log  Year_exp  Miles_zscore  \n",
      "0          11301  7.610358    2019.0     -0.881971  \n",
      "1          16970  7.611348    2021.0     -1.015648  \n",
      "2          12104  7.609862    2018.0     -0.680998  \n",
      "3          16131  7.610853    2020.0     -0.935728  \n",
      "4           6910  7.608374    2015.0      0.746167  \n",
      "..           ...       ...       ...           ...  \n",
      "994         1484  7.604396    2007.0      0.460375  \n",
      "995         5170  7.608871    2016.0     -0.645737  \n",
      "996         6204  7.609367    2017.0     -0.490034  \n",
      "997         7421  7.609367    2017.0     -0.560645  \n",
      "998         3650  7.608374    2015.0     -0.573088  \n",
      "\n",
      "[989 rows x 9 columns]\n"
     ]
    }
   ],
   "source": [
    "#Calculate z score of Miles to remove outliers from the data frame \n",
    "df['Miles_zscore'] = (df['Miles'] - df['Miles'].mean()) / df['Miles'].std()\n",
    "outliers = df[(df['Miles_zscore'] > 3) | (df['Miles_zscore'] < -3)]\n",
    "\n",
    "# remove outliers from the dataframe\n",
    "df = df.drop(outliers.index)\n",
    "\n",
    "print(df)"
   ]
  },
  {
   "cell_type": "code",
   "execution_count": 304,
   "id": "4c783e17",
   "metadata": {},
   "outputs": [
    {
     "data": {
      "image/png": "[encoded data removed]",
      "text/plain": [
       "<Figure size 432x288 with 1 Axes>"
      ]
     },
     "metadata": {
      "needs_background": "light"
     },
     "output_type": "display_data"
    }
   ],
   "source": [
    "# create a new Boxplot - Miles without the outliers \n",
    "plt.boxplot(df['Miles'])\n",
    "\n",
    "# Set labels\n",
    "plt.xlabel('Used Hondas')\n",
    "plt.ylabel('Miles Driven')\n",
    "plt.title('Used Honda Miles')\n",
    "\n",
    "# Show plot\n",
    "plt.show()"
   ]
  },
  {
   "cell_type": "code",
   "execution_count": 305,
   "id": "e4cd0908",
   "metadata": {},
   "outputs": [
    {
     "data": {
      "image/png": "[encoded data removed]",
      "text/plain": [
       "<Figure size 432x288 with 1 Axes>"
      ]
     },
     "metadata": {
      "needs_background": "light"
     },
     "output_type": "display_data"
    }
   ],
   "source": [
    "data = df['Price (USD)']\n",
    "plt.hist(data, bins=25, color='green')\n",
    "\n",
    "# Set labels\n",
    "plt.xlabel('Price (USD)')\n",
    "plt.ylabel('Frequency')\n",
    "plt.title('Price (USD) of Used Hondas')\n",
    "\n",
    "plt.show()\n"
   ]
  },
  {
   "cell_type": "code",
   "execution_count": 306,
   "id": "18101cd9",
   "metadata": {},
   "outputs": [
    {
     "data": {
      "image/png": "[encoded data removed]",
      "text/plain": [
       "<Figure size 432x288 with 1 Axes>"
      ]
     },
     "metadata": {
      "needs_background": "light"
     },
     "output_type": "display_data"
    }
   ],
   "source": [
    "#Use log to correct the skewness of the Price data \n",
    "df['Prices(USD)_log'] = np.log(df['Price (USD)'])\n",
    "\n",
    "#Create a new histogram with the symmetrical data \n",
    "plt.hist(df['Prices(USD)_log'], bins=25, color='green')\n",
    "\n",
    "# Set labels\n",
    "plt.xlabel('Price in Thousands')\n",
    "plt.ylabel('Frequency')\n",
    "plt.title('Price (USD) of Used Hondas')\n",
    "\n",
    "plt.show()"
   ]
  },
  {
   "cell_type": "code",
   "execution_count": 313,
   "id": "f1eb1925",
   "metadata": {},
   "outputs": [
    {
     "data": {
      "image/png": "[encoded data removed]",
      "text/plain": [
       "<Figure size 432x288 with 1 Axes>"
      ]
     },
     "metadata": {
      "needs_background": "light"
     },
     "output_type": "display_data"
    }
   ],
   "source": [
    "# Get count of Fuel type values\n",
    "fuel_counts = df['Fuel Type'].value_counts()\n",
    "\n",
    "# Create a bar plot to show the counts\n",
    "plt.bar(x=['Gas', 'Diesel'], height=fuel_counts.values, color='green')\n",
    "\n",
    "# Set labels\n",
    "plt.xlabel('Fuel Type')\n",
    "plt.ylabel('Count')\n",
    "plt.title('Fuel Type Count')\n",
    "\n",
    "plt.show()\n"
   ]
  },
  {
   "cell_type": "code",
   "execution_count": null,
   "id": "a30e4df4",
   "metadata": {},
   "outputs": [],
   "source": []
  },
  {
   "cell_type": "code",
   "execution_count": null,
   "id": "e507d564",
   "metadata": {},
   "outputs": [],
   "source": []
  }
 ],
 "metadata": {
  "kernelspec": {
   "display_name": "Python 3 (ipykernel)",
   "language": "python",
   "name": "python3"
  },
  "language_info": {
   "codemirror_mode": {
    "name": "ipython",
    "version": 3
   },
   "file_extension": ".py",
   "mimetype": "text/x-python",
   "name": "python",
   "nbconvert_exporter": "python",
   "pygments_lexer": "ipython3",
   "version": "3.9.12"
  }
 },
 "nbformat": 4,
 "nbformat_minor": 5
}
